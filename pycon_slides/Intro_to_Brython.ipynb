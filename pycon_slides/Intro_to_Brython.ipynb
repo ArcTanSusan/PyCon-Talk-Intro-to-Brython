{
 "metadata": {
  "celltoolbar": "Slideshow",
  "name": ""
 },
 "nbformat": 3,
 "nbformat_minor": 0,
 "worksheets": [
  {
   "cells": [
    {
     "cell_type": "heading",
     "level": 1,
     "metadata": {
      "slideshow": {
       "slide_type": "slide"
      }
     },
     "source": [
      "This is a talk about a Javascript library."
     ]
    },
    {
     "cell_type": "markdown",
     "metadata": {},
     "source": [
      "## About Me\n",
      "\n",
      "* A recent college graduate \n",
      "* Software engineer at Flixster with Rotten Tomatoes \n",
      "\n",
      "![alt text]\n",
      "\n"
     ]
    },
    {
     "cell_type": "code",
     "collapsed": false,
     "input": [
      "value = 'a'\n",
      "d = {value:8}\n",
      "log(d[value]) // undefined !"
     ],
     "language": "python",
     "metadata": {
      "slideshow": {
       "slide_type": "slide"
      }
     },
     "outputs": []
    },
    {
     "cell_type": "raw",
     "metadata": {
      "slideshow": {
       "slide_type": "slide"
      }
     },
     "source": [
      "\"true\" == true  // returns false\n"
     ]
    },
    {
     "cell_type": "raw",
     "metadata": {
      "slideshow": {
       "slide_type": "slide"
      }
     },
     "source": [
      "x = 1\n",
      "x.foo = 'a'        // no exception raised\n",
      "console.log(x.foo) // undefined !"
     ]
    }
   ],
   "metadata": {}
  }
 ]
}