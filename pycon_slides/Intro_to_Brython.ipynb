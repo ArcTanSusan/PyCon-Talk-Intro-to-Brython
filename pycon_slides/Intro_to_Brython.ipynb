{
 "metadata": {
  "celltoolbar": "Slideshow",
  "name": ""
 },
 "nbformat": 3,
 "nbformat_minor": 0,
 "worksheets": [
  {
   "cells": [
    {
     "cell_type": "heading",
     "level": 1,
     "metadata": {
      "slideshow": {
       "slide_type": "slide"
      }
     },
     "source": [
      "This is a talk about a Javascript library."
     ]
    },
    {
     "cell_type": "markdown",
     "metadata": {
      "slideshow": {
       "slide_type": "slide"
      }
     },
     "source": [
      "## About Me\n",
      "\n",
      "* A recent college graduate \n",
      "* Software engineer at Flixster with Rotten Tomatoes\n",
      "\n",
      "![Flixster](https://raw.github.com/onceuponatimeforever/PyCon-Talk-Intro-to-Brython/master/images/Flixster.png)\n",
      "\n",
      "![RT](https://raw.github.com/onceuponatimeforever/PyCon-Talk-Intro-to-Brython/master/images/RT.png)"
     ]
    },
    {
     "cell_type": "markdown",
     "metadata": {
      "slideshow": {
       "slide_type": "slide"
      }
     },
     "source": [
      "### Table of Contents \n",
      "\n",
      "* Why Python in the browser?\n",
      "* Existing Features in Brython \n",
      "* Comparison of to-do list app in Brython and in Javascript/jQuery \n",
      "* Simple speed tests to compare Brython and Python 2.7\n",
      "* What's next in Brython? \n",
      "* Why is it hard to get new libraries adopted as mainsttream? "
     ]
    },
    {
     "cell_type": "markdown",
     "metadata": {
      "slideshow": {
       "slide_type": "slide"
      }
     },
     "source": [
      "`\n",
      "\"true\" == true   // returns false\n",
      "`\n"
     ]
    },
    {
     "cell_type": "markdown",
     "metadata": {
      "slideshow": {
       "slide_type": "slide"
      }
     },
     "source": [
      "`\n",
      "value = 'a' \n",
      "\n",
      "d = {value:8} \n",
      "\n",
      "log(d[value])  // undefined\n",
      "`"
     ]
    },
    {
     "cell_type": "markdown",
     "metadata": {
      "slideshow": {
       "slide_type": "slide"
      }
     },
     "source": [
      "`\n",
      "x = 1\n",
      "x.foo = 'a'\n",
      "console.log(x.foo) // undefined\n",
      "`"
     ]
    },
    {
     "cell_type": "code",
     "collapsed": false,
     "input": [],
     "language": "python",
     "metadata": {},
     "outputs": []
    }
   ],
   "metadata": {}
  }
 ]
}